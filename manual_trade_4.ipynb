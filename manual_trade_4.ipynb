{
 "cells": [
  {
   "cell_type": "code",
   "execution_count": 97,
   "id": "f0149d99-c269-4cee-b2e7-ec60fe132c55",
   "metadata": {},
   "outputs": [
    {
     "name": "stdout",
     "output_type": "stream",
     "text": [
      "(969, 998)\n"
     ]
    }
   ],
   "source": [
    "def sim_trades(low_bid, high_bid, avg_bid):\n",
    "    total_profit = 0\n",
    "    start = 900\n",
    "    end = 1000\n",
    "    dataset_size = 10000\n",
    "    probs = np.linspace(0, 1, end - start + 1)\n",
    "    probs = probs / np.sum(probs)\n",
    "\n",
    "    new_probs = []\n",
    "\n",
    "    for i in probs:\n",
    "        new_probs.append(round(i, 8))\n",
    "\n",
    "    probs = new_probs\n",
    "\n",
    "    prices = np.random.choice(np.arange(start, end + 1), size = dataset_size, p = probs)\n",
    "\n",
    "    for i in prices:\n",
    "        if low_bid >= i:\n",
    "            total_profit += 1000 - low_bid\n",
    "        elif high_bid >= i:\n",
    "            if high_bid >= avg_bid:\n",
    "                total_profit += 1000 - high_bid\n",
    "            else:\n",
    "                flip = random.random()\n",
    "                p = (1000 - avg_bid) / (1000 - high_bid)\n",
    "                if flip < p:\n",
    "                    total_profit += 1000 - high_bid\n",
    "    \n",
    "    return total_profit\n",
    "\n",
    "def find_optimal_prices():\n",
    "    best_low_bid = 900\n",
    "    best_high_bid = 1000\n",
    "    best_total_profit = sim_trades(best_low_bid, best_high_bid, 988)\n",
    "\n",
    "    for low_bid in range(900, 1000):\n",
    "        for high_bid in range(low_bid + 1, 1001):\n",
    "            sim = sim_trades(low_bid, high_bid, 998)\n",
    "            if sim >= best_total_profit:\n",
    "                best_low_bid = low_bid\n",
    "                best_high_bid = high_bid\n",
    "                best_total_profit = sim\n",
    "    return (best_low_bid, best_high_bid)\n",
    "\n",
    "s = find_optimal_prices()\n",
    "print(s)\n",
    "#969, 998"
   ]
  },
  {
   "cell_type": "code",
   "execution_count": 15,
   "id": "0915565b",
   "metadata": {},
   "outputs": [],
   "source": [
    "import numpy as np\n",
    "import random"
   ]
  },
  {
   "cell_type": "code",
   "execution_count": 94,
   "id": "db3c7284",
   "metadata": {},
   "outputs": [
    {
     "name": "stdout",
     "output_type": "stream",
     "text": [
      "203938\n",
      "207570\n",
      "207974\n",
      "203820\n",
      "203160\n",
      "205240\n",
      "206516\n",
      "204424\n",
      "205824\n",
      "201608\n",
      "200272\n",
      "191398\n",
      "194300\n",
      "189216\n",
      "187456\n",
      "176972\n",
      "177410\n",
      "171284\n",
      "169948\n",
      "168486\n",
      "163642\n",
      "161134\n",
      "157146\n",
      "151584\n",
      "153078\n",
      "147758\n",
      "148928\n",
      "142644\n",
      "133556\n",
      "135990\n"
     ]
    }
   ],
   "source": [
    "for i in range(970, 1000):\n",
    "    print(sim_trades(952, 978, i))"
   ]
  }
 ],
 "metadata": {
  "kernelspec": {
   "display_name": "Python 3 (ipykernel)",
   "language": "python",
   "name": "python3"
  },
  "language_info": {
   "codemirror_mode": {
    "name": "ipython",
    "version": 3
   },
   "file_extension": ".py",
   "mimetype": "text/x-python",
   "name": "python",
   "nbconvert_exporter": "python",
   "pygments_lexer": "ipython3",
   "version": "3.10.8"
  }
 },
 "nbformat": 4,
 "nbformat_minor": 5
}
