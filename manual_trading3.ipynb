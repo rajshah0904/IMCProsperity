{
 "cells": [
  {
   "cell_type": "code",
   "execution_count": 32,
   "id": "b01ebb5d-866a-4715-9bfb-d553156f1a38",
   "metadata": {},
   "outputs": [
    {
     "name": "stdout",
     "output_type": "stream",
     "text": [
      "[12.0, 17.5, 13.6667, 10.5, 15.0]\n",
      "[15.6667, 16.4, 17.4, 16.0, 11.6667]\n",
      "[18.25, 17.8, 12.5, 12.8571, 8.5]\n",
      "[15.4, 16.6, 17.0, 15.8, 13.75]\n",
      "[6.0, 9.0, 13.0, 7.5, 10.0]\n"
     ]
    },
    {
     "data": {
      "text/plain": [
       "'\\nA possible idea:\\nSimulate mulitple games to figure out best moves, then simulate more games to simulate best moves based on the played moves\\nDo that multiple times to get an idea\\n'"
      ]
     },
     "execution_count": 32,
     "metadata": {},
     "output_type": "execute_result"
    }
   ],
   "source": [
    "multipliers = [[24, 70, 41, 21, 60],\n",
    "               [47, 82, 87, 80, 35],\n",
    "               [73, 89, 100, 90, 17],\n",
    "               [77, 83, 85, 79, 55],\n",
    "               [12, 27, 52, 15, 30]]\n",
    "\n",
    "hunters = [[2, 4, 3, 2, 4],\n",
    "           [3, 5, 5, 5, 3],\n",
    "           [4, 5, 8, 7, 2],\n",
    "           [5, 5, 5, 5, 4],\n",
    "           [2, 3, 4, 2, 3]]\n",
    "\n",
    "best_spots = [[0, 0, 0, 0, 0],\n",
    "              [0, 0, 0, 0, 0],\n",
    "              [0, 0, 0, 0, 0],\n",
    "              [0, 0, 0, 0, 0],\n",
    "              [0, 0, 0, 0, 0]]\n",
    "\n",
    "\n",
    "for i in range(len(multipliers)):\n",
    "    for j in range(len(multipliers[i])):\n",
    "        best_spots[i][j] = round(multipliers[i][j] / hunters[i][j], 4)\n",
    "\n",
    "# These found best spots are based on 0 people coming to an island\n",
    "# We must assume the best players figured out these spots\n",
    "for i in best_spots:\n",
    "    print(i)\n",
    "\n",
    "\"\"\"\n",
    "A possible idea:\n",
    "Simulate mulitple games to figure out best moves, then simulate more games to simulate best moves based on the played moves\n",
    "Do that multiple times to get an idea\n",
    "\"\"\""
   ]
  },
  {
   "cell_type": "code",
   "execution_count": 41,
   "id": "0f654036-b14f-471c-899d-ca911062811f",
   "metadata": {},
   "outputs": [
    {
     "data": {
      "text/plain": [
       "[[-2.6667, -2.8, -2.5625, -2.3333, -2.4],\n",
       " [-2.9375, -2.2778, -2.4167, -2.2222, -2.1875],\n",
       " [-2.92, -2.4722, -1.2346, -1.4062, -1.8889],\n",
       " [-2.1389, -2.3056, -2.3611, -2.1944, -2.2],\n",
       " [-1.3333, -1.6875, -2.08, -1.6667, -1.875]]"
      ]
     },
     "execution_count": 41,
     "metadata": {},
     "output_type": "execute_result"
    }
   ],
   "source": [
    "# Get the rate of change / the sensitivity of when people come to the spot, the more negative the more worse it is\n",
    "x = 1\n",
    "\n",
    "derivs = [[0, 0, 0, 0, 0],\n",
    "          [0, 0, 0, 0, 0],\n",
    "          [0, 0, 0, 0, 0],\n",
    "          [0, 0, 0, 0, 0],\n",
    "          [0, 0, 0, 0, 0]]\n",
    "\n",
    "for i in range(len(multipliers)):\n",
    "    for j in range(len(multipliers[i])):\n",
    "        derivs[i][j] = round(-(multipliers[i][j] / (x + hunters[i][j]) ** 2), 4)\n",
    "\n",
    "derivs"
   ]
  },
  {
   "cell_type": "code",
   "execution_count": 26,
   "id": "23fd72c9-ee67-4e3d-83df-21e01a7de131",
   "metadata": {},
   "outputs": [
    {
     "name": "stdout",
     "output_type": "stream",
     "text": [
      "[-2.6667, -2.8, -2.5625, -2.3333, -2.4]\n",
      "[-2.9375, -2.2778, -2.4167, -2.2222, -2.1875]\n",
      "[-2.92, -2.4722, -1.2346, -1.4062, -1.8889]\n",
      "[-2.1389, -2.3056, -2.3611, -2.1944, -2.2]\n",
      "[-1.3333, -1.6875, -2.08, -1.6667, -1.875]\n",
      "\n",
      "[-1.5, -1.9444, -1.64, -1.3125, -1.6667]\n",
      "[-1.88, -1.6735, -1.7755, -1.6327, -1.4]\n",
      "[-2.0278, -1.8163, -1.0, -1.1111, -1.0625]\n",
      "[-1.5714, -1.6939, -1.7347, -1.6122, -1.5278]\n",
      "[-0.75, -1.08, -1.4444, -0.9375, -1.2]\n",
      "\n",
      "[-0.96, -1.4286, -1.1389, -0.84, -1.2245]\n",
      "[-1.3056, -1.2812, -1.3594, -1.25, -0.9722]\n",
      "[-1.4898, -1.3906, -0.8264, -0.9, -0.68]\n",
      "[-1.2031, -1.2969, -1.3281, -1.2344, -1.1224]\n",
      "[-0.48, -0.75, -1.0612, -0.6, -0.8333]\n",
      "\n",
      "[-0.6667, -1.0938, -0.8367, -0.5833, -0.9375]\n",
      "[-0.9592, -1.0123, -1.0741, -0.9877, -0.7143]\n",
      "[-1.1406, -1.0988, -0.6944, -0.7438, -0.4722]\n",
      "[-0.9506, -1.0247, -1.0494, -0.9753, -0.8594]\n",
      "[-0.3333, -0.551, -0.8125, -0.4167, -0.6122]\n",
      "\n"
     ]
    }
   ],
   "source": [
    "for x in range(1,5):\n",
    "    for i in range(len(multipliers)):\n",
    "        for j in range(len(multipliers[i])):\n",
    "            derivs[i][j] = round(-(multipliers[i][j] / (x + hunters[i][j]) ** 2), 4)\n",
    "        print(derivs[i])\n",
    "    print()"
   ]
  },
  {
   "cell_type": "code",
   "execution_count": 45,
   "id": "4e330d56-6427-4450-8da1-bb4fe4e8ab66",
   "metadata": {},
   "outputs": [
    {
     "data": {
      "text/plain": [
       "[[-7.3928, -10.3098, -8.3584, -6.4687, -8.837],\n",
       " [-9.5817, -9.2155, -9.7776, -8.991, -7.1354],\n",
       " [-10.7516, -10.0022, -6.0383, -6.5294, -5.2365],\n",
       " [-8.6536, -9.3281, -9.5528, -8.8784, -8.1004],\n",
       " [-3.6963, -5.5043, -7.6587, -4.6206, -6.1159]]"
      ]
     },
     "execution_count": 45,
     "metadata": {},
     "output_type": "execute_result"
    }
   ],
   "source": [
    "derivs = [[0, 0, 0, 0, 0],\n",
    "          [0, 0, 0, 0, 0],\n",
    "          [0, 0, 0, 0, 0],\n",
    "          [0, 0, 0, 0, 0],\n",
    "          [0, 0, 0, 0, 0]]\n",
    "\n",
    "for x in range(1,10):\n",
    "    for i in range(len(multipliers)):\n",
    "        for j in range(len(multipliers[i])):\n",
    "            derivs[i][j] = round(derivs[i][j] -(multipliers[i][j] / (x + hunters[i][j]) ** 2), 4)\n",
    "\n",
    "derivs"
   ]
  },
  {
   "cell_type": "code",
   "execution_count": 46,
   "id": "5df221a5-7b3e-47e9-9fd7-5372b1e1cae2",
   "metadata": {},
   "outputs": [
    {
     "data": {
      "text/plain": [
       "[[12.0, 17.5, 13.6667, 10.5, 15.0],\n",
       " [15.6667, 16.4, 17.4, 16.0, 11.6667],\n",
       " [18.25, 17.8, 12.5, 12.8571, 8.5],\n",
       " [15.4, 16.6, 17.0, 15.8, 13.75],\n",
       " [6.0, 9.0, 13.0, 7.5, 10.0]]"
      ]
     },
     "execution_count": 46,
     "metadata": {},
     "output_type": "execute_result"
    }
   ],
   "source": [
    "best_spots"
   ]
  },
  {
   "cell_type": "code",
   "execution_count": null,
   "id": "bf53fabf-7b9e-46e0-a8a3-53b6c8192600",
   "metadata": {},
   "outputs": [],
   "source": [
    "41 / (3 + x) * 7500 = 101752"
   ]
  },
  {
   "cell_type": "code",
   "execution_count": 35,
   "id": "298dbc43-0691-4e70-861e-d6c3573f5872",
   "metadata": {},
   "outputs": [
    {
     "data": {
      "text/plain": [
       "0.022053620567654697"
      ]
     },
     "execution_count": 35,
     "metadata": {},
     "output_type": "execute_result"
    }
   ],
   "source": [
    "((41*7500)/101752)-3"
   ]
  },
  {
   "cell_type": "code",
   "execution_count": null,
   "id": "4c68e48d-205d-453a-8b26-4888ab39d865",
   "metadata": {},
   "outputs": [],
   "source": []
  }
 ],
 "metadata": {
  "kernelspec": {
   "display_name": "Python 3 (ipykernel)",
   "language": "python",
   "name": "python3"
  },
  "language_info": {
   "codemirror_mode": {
    "name": "ipython",
    "version": 3
   },
   "file_extension": ".py",
   "mimetype": "text/x-python",
   "name": "python",
   "nbconvert_exporter": "python",
   "pygments_lexer": "ipython3",
   "version": "3.10.8"
  }
 },
 "nbformat": 4,
 "nbformat_minor": 5
}
